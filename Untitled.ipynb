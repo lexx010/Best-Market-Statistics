{
 "cells": [
  {
   "cell_type": "markdown",
   "id": "549da438",
   "metadata": {},
   "source": [
    "<a href=\"https://github.com/lexx010?tab=repositories\">\n",
    "    <img src=\"img/github_sm.png\">\n",
    "</a>"
   ]
  },
  {
   "cell_type": "markdown",
   "id": "90926669-84fd-4301-840c-ca1c479973b2",
   "metadata": {},
   "source": [
    "\n",
    "### Finding the Two Best Markets to Advertise in an E-learning Product\n",
    "\n",
    "In this project, we'll aim to find the two best markets to advertise our product in — we're working for an e-learning company that offers courses on programming. Most of our courses are on web and mobile development, but we also cover many other domains, like data science, game development, etc."
   ]
  },
  {
   "cell_type": "markdown",
   "id": "59a0df58-b8b7-4f71-9319-28150a90d827",
   "metadata": {},
   "source": [
    "\n",
    "### Understanding the Data\n",
    "\n",
    "To support our analysis, we can look for existing datasets that align with our objectives. A strong candidate is [the 2017 New Coder Survey](https://github.com/freeCodeCamp/2018-new-coder-survey) conducted by freeCodeCamp, a free e-learning platform focused on web development courses.\n"
   ]
  },
  {
   "cell_type": "markdown",
   "id": "c8f3d994-3e19-480c-930f-a7a0926c1230",
   "metadata": {},
   "source": [
    "We are using a ready-made dataset due to next factors:\n",
    "- Time-Efficient\n",
    "- Cost-Effective"
   ]
  },
  {
   "cell_type": "code",
   "execution_count": 158,
   "id": "264abdb1-a5d0-42b5-b9d1-7b239036a9a4",
   "metadata": {},
   "outputs": [],
   "source": [
    "import pandas as pd\n",
    "import matplotlib.pyplot as plt\n",
    "import seaborn as sns\n",
    "\n",
    "plt.style.use('ggplot')"
   ]
  },
  {
   "cell_type": "code",
   "execution_count": 159,
   "id": "02d6e8f0-3e03-4b11-b196-6eb7f2722ab4",
   "metadata": {},
   "outputs": [],
   "source": [
    "#load dataset\n",
    "df = pd.read_csv('2017-fCC-New-Coders-Survey-Data.csv', low_memory=False)\n"
   ]
  },
  {
   "cell_type": "code",
   "execution_count": 160,
   "id": "38b3d08a-630a-4d69-8968-13e5577db804",
   "metadata": {},
   "outputs": [
    {
     "data": {
      "text/html": [
       "<div>\n",
       "<style scoped>\n",
       "    .dataframe tbody tr th:only-of-type {\n",
       "        vertical-align: middle;\n",
       "    }\n",
       "\n",
       "    .dataframe tbody tr th {\n",
       "        vertical-align: top;\n",
       "    }\n",
       "\n",
       "    .dataframe thead th {\n",
       "        text-align: right;\n",
       "    }\n",
       "</style>\n",
       "<table border=\"1\" class=\"dataframe\">\n",
       "  <thead>\n",
       "    <tr style=\"text-align: right;\">\n",
       "      <th></th>\n",
       "      <th>Age</th>\n",
       "      <th>AttendedBootcamp</th>\n",
       "      <th>BootcampFinish</th>\n",
       "      <th>BootcampLoanYesNo</th>\n",
       "      <th>BootcampName</th>\n",
       "      <th>BootcampRecommend</th>\n",
       "      <th>ChildrenNumber</th>\n",
       "      <th>CityPopulation</th>\n",
       "      <th>CodeEventConferences</th>\n",
       "      <th>CodeEventDjangoGirls</th>\n",
       "      <th>...</th>\n",
       "      <th>YouTubeFCC</th>\n",
       "      <th>YouTubeFunFunFunction</th>\n",
       "      <th>YouTubeGoogleDev</th>\n",
       "      <th>YouTubeLearnCode</th>\n",
       "      <th>YouTubeLevelUpTuts</th>\n",
       "      <th>YouTubeMIT</th>\n",
       "      <th>YouTubeMozillaHacks</th>\n",
       "      <th>YouTubeOther</th>\n",
       "      <th>YouTubeSimplilearn</th>\n",
       "      <th>YouTubeTheNewBoston</th>\n",
       "    </tr>\n",
       "  </thead>\n",
       "  <tbody>\n",
       "    <tr>\n",
       "      <th>0</th>\n",
       "      <td>27.0</td>\n",
       "      <td>0.0</td>\n",
       "      <td>NaN</td>\n",
       "      <td>NaN</td>\n",
       "      <td>NaN</td>\n",
       "      <td>NaN</td>\n",
       "      <td>NaN</td>\n",
       "      <td>more than 1 million</td>\n",
       "      <td>NaN</td>\n",
       "      <td>NaN</td>\n",
       "      <td>...</td>\n",
       "      <td>NaN</td>\n",
       "      <td>NaN</td>\n",
       "      <td>NaN</td>\n",
       "      <td>NaN</td>\n",
       "      <td>NaN</td>\n",
       "      <td>NaN</td>\n",
       "      <td>NaN</td>\n",
       "      <td>NaN</td>\n",
       "      <td>NaN</td>\n",
       "      <td>NaN</td>\n",
       "    </tr>\n",
       "    <tr>\n",
       "      <th>1</th>\n",
       "      <td>34.0</td>\n",
       "      <td>0.0</td>\n",
       "      <td>NaN</td>\n",
       "      <td>NaN</td>\n",
       "      <td>NaN</td>\n",
       "      <td>NaN</td>\n",
       "      <td>NaN</td>\n",
       "      <td>less than 100,000</td>\n",
       "      <td>NaN</td>\n",
       "      <td>NaN</td>\n",
       "      <td>...</td>\n",
       "      <td>1.0</td>\n",
       "      <td>NaN</td>\n",
       "      <td>NaN</td>\n",
       "      <td>NaN</td>\n",
       "      <td>NaN</td>\n",
       "      <td>NaN</td>\n",
       "      <td>NaN</td>\n",
       "      <td>NaN</td>\n",
       "      <td>NaN</td>\n",
       "      <td>NaN</td>\n",
       "    </tr>\n",
       "    <tr>\n",
       "      <th>2</th>\n",
       "      <td>21.0</td>\n",
       "      <td>0.0</td>\n",
       "      <td>NaN</td>\n",
       "      <td>NaN</td>\n",
       "      <td>NaN</td>\n",
       "      <td>NaN</td>\n",
       "      <td>NaN</td>\n",
       "      <td>more than 1 million</td>\n",
       "      <td>NaN</td>\n",
       "      <td>NaN</td>\n",
       "      <td>...</td>\n",
       "      <td>NaN</td>\n",
       "      <td>NaN</td>\n",
       "      <td>NaN</td>\n",
       "      <td>1.0</td>\n",
       "      <td>1.0</td>\n",
       "      <td>NaN</td>\n",
       "      <td>NaN</td>\n",
       "      <td>NaN</td>\n",
       "      <td>NaN</td>\n",
       "      <td>NaN</td>\n",
       "    </tr>\n",
       "    <tr>\n",
       "      <th>3</th>\n",
       "      <td>26.0</td>\n",
       "      <td>0.0</td>\n",
       "      <td>NaN</td>\n",
       "      <td>NaN</td>\n",
       "      <td>NaN</td>\n",
       "      <td>NaN</td>\n",
       "      <td>NaN</td>\n",
       "      <td>between 100,000 and 1 million</td>\n",
       "      <td>NaN</td>\n",
       "      <td>NaN</td>\n",
       "      <td>...</td>\n",
       "      <td>1.0</td>\n",
       "      <td>1.0</td>\n",
       "      <td>NaN</td>\n",
       "      <td>NaN</td>\n",
       "      <td>1.0</td>\n",
       "      <td>NaN</td>\n",
       "      <td>NaN</td>\n",
       "      <td>NaN</td>\n",
       "      <td>NaN</td>\n",
       "      <td>NaN</td>\n",
       "    </tr>\n",
       "    <tr>\n",
       "      <th>4</th>\n",
       "      <td>20.0</td>\n",
       "      <td>0.0</td>\n",
       "      <td>NaN</td>\n",
       "      <td>NaN</td>\n",
       "      <td>NaN</td>\n",
       "      <td>NaN</td>\n",
       "      <td>NaN</td>\n",
       "      <td>between 100,000 and 1 million</td>\n",
       "      <td>NaN</td>\n",
       "      <td>NaN</td>\n",
       "      <td>...</td>\n",
       "      <td>NaN</td>\n",
       "      <td>NaN</td>\n",
       "      <td>NaN</td>\n",
       "      <td>NaN</td>\n",
       "      <td>NaN</td>\n",
       "      <td>NaN</td>\n",
       "      <td>NaN</td>\n",
       "      <td>NaN</td>\n",
       "      <td>NaN</td>\n",
       "      <td>NaN</td>\n",
       "    </tr>\n",
       "  </tbody>\n",
       "</table>\n",
       "<p>5 rows × 136 columns</p>\n",
       "</div>"
      ],
      "text/plain": [
       "    Age  AttendedBootcamp  BootcampFinish  BootcampLoanYesNo BootcampName  \\\n",
       "0  27.0               0.0             NaN                NaN          NaN   \n",
       "1  34.0               0.0             NaN                NaN          NaN   \n",
       "2  21.0               0.0             NaN                NaN          NaN   \n",
       "3  26.0               0.0             NaN                NaN          NaN   \n",
       "4  20.0               0.0             NaN                NaN          NaN   \n",
       "\n",
       "   BootcampRecommend  ChildrenNumber                 CityPopulation  \\\n",
       "0                NaN             NaN            more than 1 million   \n",
       "1                NaN             NaN              less than 100,000   \n",
       "2                NaN             NaN            more than 1 million   \n",
       "3                NaN             NaN  between 100,000 and 1 million   \n",
       "4                NaN             NaN  between 100,000 and 1 million   \n",
       "\n",
       "   CodeEventConferences  CodeEventDjangoGirls  ...  YouTubeFCC  \\\n",
       "0                   NaN                   NaN  ...         NaN   \n",
       "1                   NaN                   NaN  ...         1.0   \n",
       "2                   NaN                   NaN  ...         NaN   \n",
       "3                   NaN                   NaN  ...         1.0   \n",
       "4                   NaN                   NaN  ...         NaN   \n",
       "\n",
       "   YouTubeFunFunFunction  YouTubeGoogleDev  YouTubeLearnCode  \\\n",
       "0                    NaN               NaN               NaN   \n",
       "1                    NaN               NaN               NaN   \n",
       "2                    NaN               NaN               1.0   \n",
       "3                    1.0               NaN               NaN   \n",
       "4                    NaN               NaN               NaN   \n",
       "\n",
       "   YouTubeLevelUpTuts  YouTubeMIT  YouTubeMozillaHacks YouTubeOther  \\\n",
       "0                 NaN         NaN                  NaN          NaN   \n",
       "1                 NaN         NaN                  NaN          NaN   \n",
       "2                 1.0         NaN                  NaN          NaN   \n",
       "3                 1.0         NaN                  NaN          NaN   \n",
       "4                 NaN         NaN                  NaN          NaN   \n",
       "\n",
       "   YouTubeSimplilearn  YouTubeTheNewBoston  \n",
       "0                 NaN                  NaN  \n",
       "1                 NaN                  NaN  \n",
       "2                 NaN                  NaN  \n",
       "3                 NaN                  NaN  \n",
       "4                 NaN                  NaN  \n",
       "\n",
       "[5 rows x 136 columns]"
      ]
     },
     "execution_count": 160,
     "metadata": {},
     "output_type": "execute_result"
    }
   ],
   "source": [
    "df.head()\n"
   ]
  },
  {
   "cell_type": "code",
   "execution_count": null,
   "id": "bd3de76a-14c7-4b67-898f-5697de4501e1",
   "metadata": {},
   "outputs": [
    {
     "name": "stdout",
     "output_type": "stream",
     "text": [
      "Number of rows: 18175\n",
      "Number of columns: 136\n"
     ]
    }
   ],
   "source": [
    "print(f\"Number of rows: {df.shape[0]}\")\n",
    "print(f\"Number of columns: {df.shape[1]}\")"
   ]
  },
  {
   "cell_type": "code",
   "execution_count": 162,
   "id": "a1546085-624d-4326-82da-4fd9aa26b4f0",
   "metadata": {},
   "outputs": [
    {
     "data": {
      "text/plain": [
       "GenderOther             18120\n",
       "CodeEventRailsGirls     18043\n",
       "CodeEventRailsBridge    18042\n",
       "CodeEventDjangoGirls    18010\n",
       "PodcastGiantRobots      17988\n",
       "                        ...  \n",
       "IsSoftwareDev             107\n",
       "ID.x                        0\n",
       "NetworkID                   0\n",
       "Part1EndTime                0\n",
       "Part1StartTime              0\n",
       "Length: 136, dtype: int64"
      ]
     },
     "execution_count": 162,
     "metadata": {},
     "output_type": "execute_result"
    }
   ],
   "source": [
    "# checking for NaN values\n",
    "df.isnull().sum().sort_values(ascending=False)"
   ]
  },
  {
   "cell_type": "code",
   "execution_count": 163,
   "id": "bc2c360e-9f05-4bdc-9310-51830466b53d",
   "metadata": {},
   "outputs": [
    {
     "data": {
      "text/plain": [
       "BootcampFinish         94.118294\n",
       "BootcampLoanYesNo      94.063274\n",
       "BootcampName           94.778542\n",
       "BootcampRecommend      94.096286\n",
       "ChildrenNumber         87.268226\n",
       "                         ...    \n",
       "YouTubeMIT             81.694635\n",
       "YouTubeMozillaHacks    96.577717\n",
       "YouTubeOther           93.683631\n",
       "YouTubeSimplilearn     98.894085\n",
       "YouTubeTheNewBoston    83.713893\n",
       "Length: 107, dtype: float64"
      ]
     },
     "execution_count": 163,
     "metadata": {},
     "output_type": "execute_result"
    }
   ],
   "source": [
    "#percentage of missing values, showing columns with more than 30% of missing values\n",
    "missing_perc = df.isnull().mean() * 100\n",
    "missing_30 = missing_perc[missing_perc >= 30]\n",
    "missing_30"
   ]
  },
  {
   "cell_type": "code",
   "execution_count": 164,
   "id": "8646899f-13b1-4a89-a403-25d0d1e0773f",
   "metadata": {
    "scrolled": true
   },
   "outputs": [
    {
     "name": "stdout",
     "output_type": "stream",
     "text": [
      "Age\n",
      "AttendedBootcamp\n",
      "BootcampFinish\n",
      "BootcampLoanYesNo\n",
      "BootcampName\n",
      "BootcampRecommend\n",
      "ChildrenNumber\n",
      "CityPopulation\n",
      "CodeEventConferences\n",
      "CodeEventDjangoGirls\n",
      "CodeEventFCC\n",
      "CodeEventGameJam\n",
      "CodeEventGirlDev\n",
      "CodeEventHackathons\n",
      "CodeEventMeetup\n",
      "CodeEventNodeSchool\n",
      "CodeEventNone\n",
      "CodeEventOther\n",
      "CodeEventRailsBridge\n",
      "CodeEventRailsGirls\n",
      "CodeEventStartUpWknd\n",
      "CodeEventWkdBootcamps\n",
      "CodeEventWomenCode\n",
      "CodeEventWorkshops\n",
      "CommuteTime\n",
      "CountryCitizen\n",
      "CountryLive\n",
      "EmploymentField\n",
      "EmploymentFieldOther\n",
      "EmploymentStatus\n",
      "EmploymentStatusOther\n",
      "ExpectedEarning\n",
      "FinanciallySupporting\n",
      "FirstDevJob\n",
      "Gender\n",
      "GenderOther\n",
      "HasChildren\n",
      "HasDebt\n",
      "HasFinancialDependents\n",
      "HasHighSpdInternet\n",
      "HasHomeMortgage\n",
      "HasServedInMilitary\n",
      "HasStudentDebt\n",
      "HomeMortgageOwe\n",
      "HoursLearning\n",
      "ID.x\n",
      "ID.y\n",
      "Income\n",
      "IsEthnicMinority\n",
      "IsReceiveDisabilitiesBenefits\n",
      "IsSoftwareDev\n",
      "IsUnderEmployed\n",
      "JobApplyWhen\n",
      "JobInterestBackEnd\n",
      "JobInterestDataEngr\n",
      "JobInterestDataSci\n",
      "JobInterestDevOps\n",
      "JobInterestFrontEnd\n",
      "JobInterestFullStack\n",
      "JobInterestGameDev\n",
      "JobInterestInfoSec\n",
      "JobInterestMobile\n",
      "JobInterestOther\n",
      "JobInterestProjMngr\n",
      "JobInterestQAEngr\n",
      "JobInterestUX\n",
      "JobPref\n",
      "JobRelocateYesNo\n",
      "JobRoleInterest\n",
      "JobWherePref\n",
      "LanguageAtHome\n",
      "MaritalStatus\n",
      "MoneyForLearning\n",
      "MonthsProgramming\n",
      "NetworkID\n",
      "Part1EndTime\n",
      "Part1StartTime\n",
      "Part2EndTime\n",
      "Part2StartTime\n",
      "PodcastChangeLog\n",
      "PodcastCodeNewbie\n",
      "PodcastCodePen\n",
      "PodcastDevTea\n",
      "PodcastDotNET\n",
      "PodcastGiantRobots\n",
      "PodcastJSAir\n",
      "PodcastJSJabber\n",
      "PodcastNone\n",
      "PodcastOther\n",
      "PodcastProgThrowdown\n",
      "PodcastRubyRogues\n",
      "PodcastSEDaily\n",
      "PodcastSERadio\n",
      "PodcastShopTalk\n",
      "PodcastTalkPython\n",
      "PodcastTheWebAhead\n",
      "ResourceCodecademy\n",
      "ResourceCodeWars\n",
      "ResourceCoursera\n",
      "ResourceCSS\n",
      "ResourceEdX\n",
      "ResourceEgghead\n",
      "ResourceFCC\n",
      "ResourceHackerRank\n",
      "ResourceKA\n",
      "ResourceLynda\n",
      "ResourceMDN\n",
      "ResourceOdinProj\n",
      "ResourceOther\n",
      "ResourcePluralSight\n",
      "ResourceSkillcrush\n",
      "ResourceSO\n",
      "ResourceTreehouse\n",
      "ResourceUdacity\n",
      "ResourceUdemy\n",
      "ResourceW3S\n",
      "SchoolDegree\n",
      "SchoolMajor\n",
      "StudentDebtOwe\n",
      "YouTubeCodeCourse\n",
      "YouTubeCodingTrain\n",
      "YouTubeCodingTut360\n",
      "YouTubeComputerphile\n",
      "YouTubeDerekBanas\n",
      "YouTubeDevTips\n",
      "YouTubeEngineeredTruth\n",
      "YouTubeFCC\n",
      "YouTubeFunFunFunction\n",
      "YouTubeGoogleDev\n",
      "YouTubeLearnCode\n",
      "YouTubeLevelUpTuts\n",
      "YouTubeMIT\n",
      "YouTubeMozillaHacks\n",
      "YouTubeOther\n",
      "YouTubeSimplilearn\n",
      "YouTubeTheNewBoston\n"
     ]
    }
   ],
   "source": [
    "# printing out all columns\n",
    "for col in df.columns:\n",
    "    print(col)"
   ]
  },
  {
   "cell_type": "code",
   "execution_count": 165,
   "id": "8d54c728-633b-4fe2-a7e8-8f51e037cb7a",
   "metadata": {},
   "outputs": [
    {
     "name": "stdout",
     "output_type": "stream",
     "text": [
      "<class 'pandas.core.frame.DataFrame'>\n",
      "RangeIndex: 18175 entries, 0 to 18174\n",
      "Columns: 136 entries, Age to YouTubeTheNewBoston\n",
      "dtypes: float64(105), object(31)\n",
      "memory usage: 18.9+ MB\n"
     ]
    }
   ],
   "source": [
    "df.info()"
   ]
  },
  {
   "cell_type": "markdown",
   "id": "bd1dd702-21e5-4941-bbf5-e7e21e62470d",
   "metadata": {},
   "source": [
    "\n",
    "### Checking for Sample Representativity\n"
   ]
  },
  {
   "cell_type": "markdown",
   "id": "76bdfc24-415c-49db-b0a4-c4b2f55734f4",
   "metadata": {},
   "source": [
    "We offer courses primarily in web and mobile development, along with other areas like data science and game development. For our analysis, we want to understand the population of new coders interested in these subjects by exploring:\n",
    "\n",
    "- Where they are located\n",
    "\n",
    "- Which locations have the highest numbers\n",
    "\n",
    "- How much they’re willing to spend on learning\n",
    "\n",
    "Before analyzing our sample data, we need to confirm that it’s representative of this target group and includes the right categories of learners."
   ]
  },
  {
   "cell_type": "code",
   "execution_count": 168,
   "id": "947597c3-c8b9-4485-826c-6e4e7cc67fdd",
   "metadata": {},
   "outputs": [],
   "source": [
    "# create checkpoint/recovery df\n",
    "df_checkpoint = df.copy() "
   ]
  },
  {
   "cell_type": "markdown",
   "id": "94ff5f99-299e-43fb-9d46-ea7df4b1e977",
   "metadata": {},
   "source": [
    "Starting with the `JobRoleInterest` column that describes for every participant the role(s) they'd be interested in working."
   ]
  },
  {
   "cell_type": "code",
   "execution_count": 170,
   "id": "fff6ab10-2626-46be-8908-19af71445c2b",
   "metadata": {},
   "outputs": [
    {
     "name": "stdout",
     "output_type": "stream",
     "text": [
      "Percentage of not-missing values: 38.47\n"
     ]
    }
   ],
   "source": [
    "# determine if column is well populated or has missing values\n",
    "print(f\"Percentage of not-missing values: {df['JobRoleInterest'].notnull().mean() * 100:.2f}\")"
   ]
  },
  {
   "cell_type": "code",
   "execution_count": 171,
   "id": "22aca777-6959-454c-bddb-3276b2b59304",
   "metadata": {},
   "outputs": [],
   "source": [
    "# calculate frequency distribution\n",
    "freq = df['JobRoleInterest'].value_counts(normalize=True)"
   ]
  },
  {
   "cell_type": "code",
   "execution_count": 172,
   "id": "ba96b94a-95ee-499a-b369-0f5c7464bae1",
   "metadata": {},
   "outputs": [
    {
     "data": {
      "text/plain": [
       "JobRoleInterest\n",
       "Full-Stack Web Developer                               0.117706\n",
       "  Front-End Web Developer                              0.064359\n",
       "  Data Scientist                                       0.021739\n",
       "Back-End Web Developer                                 0.020309\n",
       "  Mobile Developer                                     0.016733\n",
       "Game Developer                                         0.016304\n",
       "Information Security                                   0.013158\n",
       "Full-Stack Web Developer,   Front-End Web Developer    0.009153\n",
       "  Front-End Web Developer, Full-Stack Web Developer    0.008009\n",
       "  Product Manager                                      0.007866\n",
       "Name: proportion, dtype: float64"
      ]
     },
     "execution_count": 172,
     "metadata": {},
     "output_type": "execute_result"
    }
   ],
   "source": [
    "freq.head(10)"
   ]
  },
  {
   "cell_type": "markdown",
   "id": "fb845770-80c9-49ff-a686-6da6c7f02193",
   "metadata": {},
   "source": [
    "The information in the table above is quite detailed, but from a quick scan, it looks like:\n",
    "\n",
    "- A large number of people are interested in web development (full-stack, front-end, and back-end).\n",
    "\n",
    "- A smaller group is interested in mobile development.\n",
    "\n",
    "- Even fewer people are interested in domains outside of web and mobile development.\n",
    "\n",
    "Additionally, it’s worth noting that many respondents have an interest in more than one subject. It would be helpful to gain a clearer understanding of how many people are interested in just one subject versus those with mixed interests."
   ]
  },
  {
   "cell_type": "code",
   "execution_count": 174,
   "id": "7ba5bc0c-6d2e-4df0-9970-6de6b875d973",
   "metadata": {},
   "outputs": [
    {
     "name": "stdout",
     "output_type": "stream",
     "text": [
      "Missing values: 0\n"
     ]
    }
   ],
   "source": [
    "# drop rows with missing values in the 'JobRoleInterest' column\n",
    "job_roles = df['JobRoleInterest'].dropna()\n",
    "\n",
    "#check for missing values\n",
    "print(f\"Missing values: {job_roles.isnull().sum()}\")"
   ]
  },
  {
   "cell_type": "code",
   "execution_count": 175,
   "id": "ea143140-75f0-42c3-b077-04a18325ca28",
   "metadata": {},
   "outputs": [],
   "source": [
    "#split comma-separated job roles, tansform it into rows\n",
    "job_roles_split = job_roles.str.split(',').explode().str.strip().str.lower()"
   ]
  },
  {
   "cell_type": "code",
   "execution_count": 176,
   "id": "d636e1d7-f21f-4669-91c4-89c00df450f5",
   "metadata": {},
   "outputs": [
    {
     "data": {
      "text/plain": [
       "1        full-stack web developer\n",
       "2         front-end web developer\n",
       "2          back-end web developer\n",
       "2               devops / sysadmin\n",
       "2                mobile developer\n",
       "                   ...           \n",
       "18171        information security\n",
       "18171               it specialist\n",
       "18174      back-end web developer\n",
       "18174               data engineer\n",
       "18174              data scientist\n",
       "Name: JobRoleInterest, Length: 22600, dtype: object"
      ]
     },
     "execution_count": 176,
     "metadata": {},
     "output_type": "execute_result"
    }
   ],
   "source": [
    "job_roles_split"
   ]
  },
  {
   "cell_type": "code",
   "execution_count": 177,
   "id": "6d023718-6d03-4eee-8651-199919874224",
   "metadata": {},
   "outputs": [],
   "source": [
    "# count the relative frequency of each job role interest in the dataset and express it as a percentage\n",
    "freq_roles = job_roles_split.value_counts(normalize=True) * 100"
   ]
  },
  {
   "cell_type": "code",
   "execution_count": 178,
   "id": "c22c1113-60af-4c00-9da0-393c57b67e01",
   "metadata": {
    "scrolled": true
   },
   "outputs": [
    {
     "data": {
      "text/plain": [
       "JobRoleInterest\n",
       "full-stack web developer            18.575221\n",
       "front-end web developer             15.632743\n",
       "back-end web developer              12.265487\n",
       "mobile developer                    10.199115\n",
       "data scientist                       7.269912\n",
       "                                      ...    \n",
       "pharmacy tech                        0.004425\n",
       "data journalist / data visualist     0.004425\n",
       "desings                              0.004425\n",
       "infrastructure architect             0.004425\n",
       "it specialist                        0.004425\n",
       "Name: proportion, Length: 193, dtype: float64"
      ]
     },
     "execution_count": 178,
     "metadata": {},
     "output_type": "execute_result"
    }
   ],
   "source": [
    "freq_roles"
   ]
  },
  {
   "cell_type": "code",
   "execution_count": 179,
   "id": "65c12541-7e64-4b2c-bfed-d029e5415638",
   "metadata": {},
   "outputs": [
    {
     "data": {
      "image/png": "[encoded data removed]",
      "text/plain": [
       "<Figure size 1000x600 with 1 Axes>"
      ]
     },
     "metadata": {},
     "output_type": "display_data"
    }
   ],
   "source": [
    "# Plot the top 15 job roles by frequency as a horizontal bar chart\n",
    "plt.figure(figsize=(10,6))\n",
    "freq_roles.head(15).sort_values(ascending=True).plot(kind='barh')\n",
    "plt.title('Top Job Roles Frequency Table')\n",
    "plt.xlabel('% of Respondents')\n",
    "plt.ylabel('Job roles')\n",
    "plt.show()"
   ]
  },
  {
   "cell_type": "markdown",
   "id": "6e62e950-acde-49f0-89a8-1eddce64bb64",
   "metadata": {},
   "source": [
    "Since our courses primarily focus on web and mobile development, it’s important to understand how many people are interested in at least one of these two areas. This will give us insight into the demand for our core offerings and help tailor our content to meet the needs of our audience. \n",
    "\n",
    "We'll identify interest in web or mobile development by checking job roles against predefined keyword lists for each area. A function will classify roles accordingly, ignoring any missing data. We'll then calculate and label the percentage of people interested in web or mobile development versus other roles, and sort the results for clear comparison."
   ]
  },
  {
   "cell_type": "code",
   "execution_count": 181,
   "id": "1e815e97-2244-486b-94ca-ad638c6dd6a1",
   "metadata": {},
   "outputs": [],
   "source": [
    "# job_roles_split\n",
    "web_keywords = ['web', 'full-stack', 'front-end', 'back-end']\n",
    "mobile_keywords = ['mobile', 'android', 'ios']"
   ]
  },
  {
   "cell_type": "code",
   "execution_count": 182,
   "id": "8018b923-f10b-4ec0-bf5c-800107823342",
   "metadata": {},
   "outputs": [],
   "source": [
    "# function to mark web and mobile roles\n",
    "def web_and_mobile(roles):\n",
    "    roles = roles.lower()\n",
    "    return any (kw in roles for kw in web_keywords + mobile_keywords)\n",
    "\n",
    "web_mobile_roles = df['JobRoleInterest'].dropna().apply(web_and_mobile)"
   ]
  },
  {
   "cell_type": "code",
   "execution_count": 183,
   "id": "30b4b840-b279-448e-9a54-6ca521e8a86f",
   "metadata": {},
   "outputs": [],
   "source": [
    "# frequency table\n",
    "freq_table = web_mobile_roles.value_counts(normalize=True) * 100\n",
    "\n",
    "# create labels\n",
    "freq_table.index = ['Web or mobile development','Others']\n",
    "freq_table = freq_table.sort_index(ascending=False)"
   ]
  },
  {
   "cell_type": "code",
   "execution_count": 184,
   "id": "39f07be1-9a5d-494f-9e61-4011a57b6e78",
   "metadata": {},
   "outputs": [
    {
     "data": {
      "text/plain": [
       "Web or mobile development    86.341533\n",
       "Others                       13.658467\n",
       "Name: proportion, dtype: float64"
      ]
     },
     "execution_count": 184,
     "metadata": {},
     "output_type": "execute_result"
    }
   ],
   "source": [
    "freq_table\n"
   ]
  },
  {
   "cell_type": "code",
   "execution_count": 185,
   "id": "f22f35cc-dc34-4842-84eb-2f5bebd63a1d",
   "metadata": {},
   "outputs": [
    {
     "data": {
      "image/png": "[encoded data removed]",
      "text/plain": [
       "<Figure size 1000x600 with 1 Axes>"
      ]
     },
     "metadata": {},
     "output_type": "display_data"
    }
   ],
   "source": [
    "plt.figure(figsize=(10,6))\n",
    "\n",
    "freq_table.plot(kind='bar')\n",
    "plt.title('Most Participants Are Interested in\\nWeb or Mobile Development')\n",
    "plt.ylabel('Percentage')\n",
    "plt.xticks(rotation=0)\n",
    "\n",
    "plt.show()"
   ]
  },
  {
   "cell_type": "markdown",
   "id": "9749243f-78c2-4be9-a774-f54155540ca2",
   "metadata": {},
   "source": [
    "**86.34%** of respondents are interested in web or mobile development, indicating that the majority of the audience is focused on these areas.\n",
    "\n",
    "**13.66%** are interested in other domains, suggesting that a smaller portion of the audience is exploring areas outside of web and mobile development.  \n",
    "The data shows a strong interest in web and mobile development, which aligns with the focus of your courses. "
   ]
  },
  {
   "cell_type": "markdown",
   "id": "fcbd991e-aa09-4385-9f9a-27952a1592fe",
   "metadata": {},
   "source": [
    "\n",
    "### New Coders - Locations and Densities\n",
    "\n",
    "Now that we’ve confirmed the sample includes the right categories of people for our analysis, we can begin exploring the data. Our first step will be to analyze where these new coders are located and determine the density of coders in each location."
   ]
  },
  {
   "cell_type": "markdown",
   "id": "3b2963d8-8798-4082-a49b-a9f58e8400d5",
   "metadata": {},
   "source": [
    "The `CountryCitizen` variable indicates each participant's country of origin, while the `CountryLive` variable shows the country they currently live in (which may differ from their country of origin).  \n",
    "\n",
    "For our analysis, we’ll focus on the `CountryLive` variable, as we're more interested in where people are currently located when the ads are shown, rather than where they were born."
   ]
  },
  {
   "cell_type": "code",
   "execution_count": 189,
   "id": "50448ff7-d4e1-4b46-8e19-0632d7c311e3",
   "metadata": {},
   "outputs": [
    {
     "data": {
      "text/plain": [
       "CountryLive\n",
       "United States of America    5791\n",
       "India                       1400\n",
       "United Kingdom               757\n",
       "Canada                       616\n",
       "Brazil                       364\n",
       "                            ... \n",
       "Liberia                        1\n",
       "Guadeloupe                     1\n",
       "Curacao                        1\n",
       "Gibraltar                      1\n",
       "Hawaii                         1\n",
       "Name: count, Length: 172, dtype: int64"
      ]
     },
     "execution_count": 189,
     "metadata": {},
     "output_type": "execute_result"
    }
   ],
   "source": [
    "df['CountryLive'].value_counts()"
   ]
  },
  {
   "cell_type": "code",
   "execution_count": 190,
   "id": "c1084791-fe70-4b83-8768-3dc297963a10",
   "metadata": {},
   "outputs": [],
   "source": [
    "# drop all rows where a participant didn't respond\n",
    "df_clean = df[df['JobRoleInterest'].notnull()].copy()"
   ]
  },
  {
   "cell_type": "code",
   "execution_count": 191,
   "id": "4f5568e1-2169-4b02-ad11-e9d5e5378cc0",
   "metadata": {},
   "outputs": [
    {
     "data": {
      "text/plain": [
       "0"
      ]
     },
     "execution_count": 191,
     "metadata": {},
     "output_type": "execute_result"
    }
   ],
   "source": [
    "# check for null values\n",
    "df_clean['JobRoleInterest'].isnull().sum()"
   ]
  },
  {
   "cell_type": "code",
   "execution_count": 192,
   "id": "d8163868-eb5a-4179-8535-6a38ec204b5b",
   "metadata": {},
   "outputs": [],
   "source": [
    " # frequency tables\n",
    "freq_table_abs = df_clean['CountryLive'].value_counts()\n",
    "freq_table_relative = df_clean['CountryLive'].value_counts(normalize=True) * 100"
   ]
  },
  {
   "cell_type": "code",
   "execution_count": 193,
   "id": "a0be0383-aab1-4cad-b6db-22aebbe4b1d8",
   "metadata": {},
   "outputs": [
    {
     "data": {
      "text/html": [
       "<div>\n",
       "<style scoped>\n",
       "    .dataframe tbody tr th:only-of-type {\n",
       "        vertical-align: middle;\n",
       "    }\n",
       "\n",
       "    .dataframe tbody tr th {\n",
       "        vertical-align: top;\n",
       "    }\n",
       "\n",
       "    .dataframe thead th {\n",
       "        text-align: right;\n",
       "    }\n",
       "</style>\n",
       "<table border=\"1\" class=\"dataframe\">\n",
       "  <thead>\n",
       "    <tr style=\"text-align: right;\">\n",
       "      <th></th>\n",
       "      <th>Absolute Frequency</th>\n",
       "      <th>Relative Frequency (%)</th>\n",
       "    </tr>\n",
       "  </thead>\n",
       "  <tbody>\n",
       "    <tr>\n",
       "      <th>United States of America</th>\n",
       "      <td>3125</td>\n",
       "      <td>45.70</td>\n",
       "    </tr>\n",
       "    <tr>\n",
       "      <th>India</th>\n",
       "      <td>528</td>\n",
       "      <td>7.72</td>\n",
       "    </tr>\n",
       "    <tr>\n",
       "      <th>United Kingdom</th>\n",
       "      <td>315</td>\n",
       "      <td>4.61</td>\n",
       "    </tr>\n",
       "    <tr>\n",
       "      <th>Canada</th>\n",
       "      <td>260</td>\n",
       "      <td>3.80</td>\n",
       "    </tr>\n",
       "    <tr>\n",
       "      <th>Poland</th>\n",
       "      <td>131</td>\n",
       "      <td>1.92</td>\n",
       "    </tr>\n",
       "    <tr>\n",
       "      <th>...</th>\n",
       "      <td>...</td>\n",
       "      <td>...</td>\n",
       "    </tr>\n",
       "    <tr>\n",
       "      <th>Liberia</th>\n",
       "      <td>1</td>\n",
       "      <td>0.01</td>\n",
       "    </tr>\n",
       "    <tr>\n",
       "      <th>Papua New Guinea</th>\n",
       "      <td>1</td>\n",
       "      <td>0.01</td>\n",
       "    </tr>\n",
       "    <tr>\n",
       "      <th>Guadeloupe</th>\n",
       "      <td>1</td>\n",
       "      <td>0.01</td>\n",
       "    </tr>\n",
       "    <tr>\n",
       "      <th>Gibraltar</th>\n",
       "      <td>1</td>\n",
       "      <td>0.01</td>\n",
       "    </tr>\n",
       "    <tr>\n",
       "      <th>Gambia</th>\n",
       "      <td>1</td>\n",
       "      <td>0.01</td>\n",
       "    </tr>\n",
       "  </tbody>\n",
       "</table>\n",
       "<p>137 rows × 2 columns</p>\n",
       "</div>"
      ],
      "text/plain": [
       "                          Absolute Frequency  Relative Frequency (%)\n",
       "United States of America                3125                   45.70\n",
       "India                                    528                    7.72\n",
       "United Kingdom                           315                    4.61\n",
       "Canada                                   260                    3.80\n",
       "Poland                                   131                    1.92\n",
       "...                                      ...                     ...\n",
       "Liberia                                    1                    0.01\n",
       "Papua New Guinea                           1                    0.01\n",
       "Guadeloupe                                 1                    0.01\n",
       "Gibraltar                                  1                    0.01\n",
       "Gambia                                     1                    0.01\n",
       "\n",
       "[137 rows x 2 columns]"
      ]
     },
     "execution_count": 193,
     "metadata": {},
     "output_type": "execute_result"
    }
   ],
   "source": [
    "freq_location_table = pd.DataFrame({ 'Absolute Frequency': freq_table_abs,\n",
    "                                    'Relative Frequency (%)': freq_table_relative.round(2)\n",
    "                                   })\n",
    "# remove index name from the header\n",
    "freq_location_table.index.name=None\n",
    "freq_location_table"
   ]
  },
  {
   "cell_type": "markdown",
   "id": "b846dec3-bf28-41fc-ac92-699a399a003e",
   "metadata": {},
   "source": [
    "From the data, we can draw the following conclusions:\n",
    "\n",
    "* The United States leads with the highest number of participants, making up **45.7%** of the total respondents. This suggests that the ads are reaching a significant portion of people in the U.S.\n",
    "\n",
    "* India follows with **7.72%** of respondents, indicating a strong presence in the country as well.\n",
    "\n",
    "* Other countries like the United Kingdom, Canada, and Poland also have notable representation, although at smaller percentages.  \n",
    "\n",
    "The data shows that the majority of participants come from a few key countries, with the U.S. being the most prominent. However, there is also a diverse global reach, with participation from many countries, some with minimal representation. That said, we need to dig deeper and understand how much people are willing to spend on learning. Advertising in high-density markets where most people are only interested in free learning options is unlikely to be profitable for us."
   ]
  },
  {
   "cell_type": "markdown",
   "id": "62f45e97-8518-401a-9b2a-e6505f0f0485",
   "metadata": {},
   "source": [
    "\n",
    "### Spending Money for Learning\n",
    "\n",
    "Next, we’ll analyze how much new coders are willing to spend on learning. Advertising in markets where most people only want free learning options is unlikely to be profitable.\n",
    "\n",
    "The `MoneyForLearning` column shows the total amount spent by participants in U.S. dollars, from when they started coding until they completed the survey. Since our subscription costs $59 per month, we’re interested in determining how much each student spends per month.\n",
    "\n",
    "We’ll focus our analysis on four countries: the U.S., India, the U.K., and Canada. These countries have the highest participant numbers in our sample, and all have English as an official language, which helps us target the right audience for our ads.\n",
    "\n"
   ]
  },
  {
   "cell_type": "markdown",
   "id": "d849a687-d838-4109-bc96-483eba55c6f7",
   "metadata": {},
   "source": [
    "We'll create a new column to show how much a student has spent per month by dividing the `MoneyForLearning` column by the `MonthsProgramming` column. Since some students reported 0 months of coding (likely just starting), we'll replace 0 with 1 in the `MonthsProgramming`column to avoid division by zero."
   ]
  },
  {
   "cell_type": "code",
   "execution_count": 197,
   "id": "ad6bfbc9-bd22-4729-a8bb-c39a5f79c87e",
   "metadata": {},
   "outputs": [],
   "source": [
    "# replace 0 values in 'MonthsProgramming' with 1 to avoid division by zero\n",
    "df_clean['MonthsProgramming'] = df_clean['MonthsProgramming'].replace(0,1)\n",
    "\n",
    "#create a new column: money_per_month\n",
    "df_clean['money_per_month'] = df_clean['MoneyForLearning'] / df_clean['MonthsProgramming']"
   ]
  },
  {
   "cell_type": "code",
   "execution_count": 198,
   "id": "86540073-b987-4daf-ada7-07c7cf665f7d",
   "metadata": {},
   "outputs": [
    {
     "name": "stdout",
     "output_type": "stream",
     "text": [
      "There are 675 null values.\n"
     ]
    }
   ],
   "source": [
    "# rows with null values\n",
    "print(f\"There are {df_clean['money_per_month'].isnull().sum()} null values.\")"
   ]
  },
  {
   "cell_type": "code",
   "execution_count": 199,
   "id": "d9b09ef6-c2f8-4f8b-ac3a-4f30b32f03f2",
   "metadata": {},
   "outputs": [],
   "source": [
    "# keep only non-null values\n",
    "df_clean = df_clean[df_clean['money_per_month'].notnull()]"
   ]
  },
  {
   "cell_type": "code",
   "execution_count": 200,
   "id": "342ce3bd-9f4f-4248-8917-997035cda284",
   "metadata": {},
   "outputs": [
    {
     "data": {
      "text/plain": [
       "0"
      ]
     },
     "execution_count": 200,
     "metadata": {},
     "output_type": "execute_result"
    }
   ],
   "source": [
    "# validate that there are no null values\n",
    "df_clean['money_per_month'].isnull().sum()"
   ]
  },
  {
   "cell_type": "code",
   "execution_count": 201,
   "id": "4a88b716-c69c-4339-a748-c04df41a7bd4",
   "metadata": {},
   "outputs": [
    {
     "data": {
      "text/plain": [
       "CountryLive\n",
       "United States of America    2933\n",
       "India                        463\n",
       "United Kingdom               279\n",
       "Canada                       240\n",
       "Name: count, dtype: int64"
      ]
     },
     "execution_count": 201,
     "metadata": {},
     "output_type": "execute_result"
    }
   ],
   "source": [
    "#Remove any rows that have null values in the CountryLive column\n",
    "df_clean = df_clean[df_clean['CountryLive'].notnull()]\n",
    "df_clean['CountryLive'].value_counts().head(4)"
   ]
  },
  {
   "cell_type": "code",
   "execution_count": 202,
   "id": "ab75fd96-1946-4b09-9ac7-0308af78ddc6",
   "metadata": {},
   "outputs": [
    {
     "data": {
      "text/plain": [
       "CountryLive\n",
       "United States of America    228.00\n",
       "India                       135.10\n",
       "Canada                      113.51\n",
       "United Kingdom               45.53\n",
       "Name: money_per_month, dtype: float64"
      ]
     },
     "execution_count": 202,
     "metadata": {},
     "output_type": "execute_result"
    }
   ],
   "source": [
    "# find out how much money a student spends on average each month in the US, India, the United Kingdom and Canada.\n",
    "top_countries = ['United States of America', 'India', 'United Kingdom', 'Canada']\n",
    "top4_df = df_clean[df_clean['CountryLive'].isin(top_countries)]\n",
    "avg_spending = top4_df.groupby('CountryLive')['money_per_month'].mean().sort_values(ascending=False).round(2)\n",
    "avg_spending\n"
   ]
  },
  {
   "cell_type": "markdown",
   "id": "94d05c09-eecd-463c-87b4-a0efc45b34cd",
   "metadata": {},
   "source": [
    "The data shows the average monthly spending on learning by new coders in four key countries:\n",
    "\n",
    "* United States: **$228.00**\n",
    "\n",
    "* India: **$135.10**\n",
    "\n",
    "* Canada: **$113.51**\n",
    "\n",
    "* United Kingdom: **$45.53**\n",
    "\n",
    "The United States leads with the highest average monthly spending, suggesting a strong willingness to invest in learning. India and Canada also show solid levels of investment, while the United Kingdom appears significantly lower in comparison.\n",
    "\n",
    "However, these results may be influenced by outliers—a few participants reporting unusually high spending—which can skew the averages. This is likely the case here, especially for the U.S. We'll address this by removing outliers in the next steps to get a more accurate picture of typical spending behavior."
   ]
  },
  {
   "cell_type": "markdown",
   "id": "15e1fd55-cccb-4d95-8011-d000060199c3",
   "metadata": {},
   "source": [
    "It's also possible to calculate the median to compare with the mean and check whether the average is being influenced by outliers."
   ]
  },
  {
   "cell_type": "code",
   "execution_count": 205,
   "id": "8d71d65e-b621-4525-b2c5-388b53b8470a",
   "metadata": {},
   "outputs": [
    {
     "data": {
      "text/plain": [
       "CountryLive\n",
       "United States of America    3.33\n",
       "Canada                      0.00\n",
       "India                       0.00\n",
       "United Kingdom              0.00\n",
       "Name: money_per_month, dtype: float64"
      ]
     },
     "execution_count": 205,
     "metadata": {},
     "output_type": "execute_result"
    }
   ],
   "source": [
    "avg_spending_median = top4_df.groupby('CountryLive')['money_per_month'].median().sort_values(ascending=False).round(2)\n",
    "avg_spending_median "
   ]
  },
  {
   "cell_type": "markdown",
   "id": "957206de-0544-4570-95ec-95ac7423fb47",
   "metadata": {},
   "source": [
    "* Many respondents reported **$0** in `MoneyForLearning`, or have very long learning periods with small total costs (resulting in near-zero monthly spend).\n",
    "\n",
    "* Some participants learned entirely from free resources, like YouTube, FreeCodeCamp, etc.\n",
    "\n",
    "\n",
    "A median of 0.00 means that at least half of the respondents in that country reported spending nothing on learning per month.\n",
    "\n",
    "A low median (like 3.33) in the US suggests a high number of low spenders, even if some spent much more (those outliers would affect the mean, not the median)."
   ]
  },
  {
   "cell_type": "markdown",
   "id": "4b700b26-0f38-4995-9904-979aab26db29",
   "metadata": {},
   "source": [
    "The reason mean values for `money_per_month` are much higher than the medians is due to the influence of outliers, a common phenomenon in skewed data."
   ]
  },
  {
   "cell_type": "markdown",
   "id": "3b4140b0-423c-4a9a-aca2-b4085ba45f94",
   "metadata": {},
   "source": [
    "\n",
    "### Dealing with Extreme Outliers\n"
   ]
  },
  {
   "cell_type": "markdown",
   "id": "9cf8eb66-98a2-48fc-8bd1-ad231374d65b",
   "metadata": {},
   "source": [
    "The results for the United Kingdom and Canada are unexpectedly low compared to India. Based on socio-economic factors like GDP per capita, we’d expect higher spending in the UK and Canada. This discrepancy could be due to unrepresentative data, outliers inflating India’s average or deflating the UK’s and Canada’s, or the data may simply reflect reality."
   ]
  },
  {
   "cell_type": "code",
   "execution_count": 210,
   "id": "8c7cb919-199d-4ace-9b35-0a27a7d1d0a6",
   "metadata": {},
   "outputs": [
    {
     "data": {
      "image/png": "[encoded data removed]",
      "text/plain": [
       "<Figure size 1000x600 with 1 Axes>"
      ]
     },
     "metadata": {},
     "output_type": "display_data"
    }
   ],
   "source": [
    "top_countries = ['United States of America', 'India', 'United Kingdom', 'Canada']\n",
    "top4_df = df_clean[df_clean['CountryLive'].isin(top_countries)]\n",
    "# top4_df = top4_df[top4_df['money_per_month'] < 20000]\n",
    "\n",
    "plt.figure(figsize=(10,6))\n",
    "sns.boxplot(data=top4_df, x='CountryLive', y='money_per_month')\n",
    "plt.title('Monthly Learning Spend by Country')\n",
    "plt.ylabel('Money per Month ($)')\n",
    "plt.xlabel('') \n",
    "plt.xticks()\n",
    "plt.tight_layout()\n",
    "\n",
    "plt.show()\n"
   ]
  },
  {
   "cell_type": "markdown",
   "id": "c24a650d-527c-4a06-b303-001007c00e41",
   "metadata": {},
   "source": [
    "It's difficult to tell from the plot whether there's anything unusual in the data for the United Kingdom, India, or Canada. However, it's immediately clear that something is off in the U.S. data — two individuals report spending **$50,000 or more per month** on learning. \n",
    "\n",
    "While not impossible, this seems highly unlikely. To ensure more realistic results, we'll remove any entries where the monthly spending exceeds **$20,000**.\n"
   ]
  },
  {
   "cell_type": "code",
   "execution_count": 212,
   "id": "dcfba099-2579-482c-b13b-d8ef281e63ea",
   "metadata": {},
   "outputs": [],
   "source": [
    "#Eliminate the extreme outliers.\n",
    "top4_df = top4_df[top4_df['money_per_month'] < 20000]"
   ]
  },
  {
   "cell_type": "markdown",
   "id": "4eaaca3e-013c-403f-8a17-3f22dfac868b",
   "metadata": {},
   "source": [
    "Determine the average monthly learning expenditure per student in the United States, India, the United Kingdom, and Canada."
   ]
  },
  {
   "cell_type": "code",
   "execution_count": 214,
   "id": "e44ca25e-ac7f-4a70-8a64-eaf0f3969640",
   "metadata": {},
   "outputs": [
    {
     "name": "stdout",
     "output_type": "stream",
     "text": [
      "Average monthly spending after removing outliers:\n"
     ]
    },
    {
     "data": {
      "text/plain": [
       "CountryLive\n",
       "United States of America    183.80\n",
       "India                       135.10\n",
       "Canada                      113.51\n",
       "United Kingdom               45.53\n",
       "Name: money_per_month, dtype: float64"
      ]
     },
     "execution_count": 214,
     "metadata": {},
     "output_type": "execute_result"
    }
   ],
   "source": [
    "countries_avg = top4_df.groupby('CountryLive')['money_per_month'].mean().sort_values(ascending=False).round(2)\n",
    "\n",
    "print(\"Average monthly spending after removing outliers:\")\n",
    "countries_avg"
   ]
  },
  {
   "cell_type": "code",
   "execution_count": 215,
   "id": "76bf288e-9cb2-42c3-a108-c8aee08f035c",
   "metadata": {},
   "outputs": [
    {
     "data": {
      "image/png": "[encoded data removed]",
      "text/plain": [
       "<Figure size 1000x600 with 1 Axes>"
      ]
     },
     "metadata": {},
     "output_type": "display_data"
    }
   ],
   "source": [
    "# Recompute the boxplots\n",
    "top_countries = ['United States of America', 'India', 'United Kingdom', 'Canada']\n",
    "top4_df = df_clean[df_clean['CountryLive'].isin(top_countries)]\n",
    "top4_df = top4_df[top4_df['money_per_month'] < 20000]\n",
    "plt.figure(figsize=(10,6))\n",
    "\n",
    "sns.boxplot(data=top4_df, x='CountryLive', y='money_per_month')\n",
    "plt.title('Monthly Learning Spend by Country')\n",
    "plt.xlabel('') \n",
    "plt.ylabel('Money per Month ($)')\n",
    "plt.xticks()\n",
    "plt.tight_layout()\n",
    "\n",
    "plt.show()"
   ]
  },
  {
   "cell_type": "markdown",
   "id": "56599646-5242-4efd-bd04-bbd2f355b190",
   "metadata": {},
   "source": [
    "There are a few extreme outliers for India (spending over $2500 per month), but it’s unclear whether this data is accurate. These individuals might have attended multiple bootcamps, which can be quite expensive. Let’s isolate these two respondents and review their answers to other survey questions to determine if their high spending is justified. Specifically, we can check if they attended any bootcamps, which could explain the large amount of money spent."
   ]
  },
  {
   "cell_type": "code",
   "execution_count": 217,
   "id": "6d872486-d5bf-42e9-8bf3-0de5c0396be4",
   "metadata": {},
   "outputs": [],
   "source": [
    "india_outliers = top4_df[\n",
    "    (top4_df['CountryLive'] == 'India') &\n",
    "    (top4_df['money_per_month'] > 2500)\n",
    "]"
   ]
  },
  {
   "cell_type": "code",
   "execution_count": 218,
   "id": "ddfcea76-16e5-4b6d-a854-68850854ed1b",
   "metadata": {},
   "outputs": [
    {
     "data": {
      "text/html": [
       "<div>\n",
       "<style scoped>\n",
       "    .dataframe tbody tr th:only-of-type {\n",
       "        vertical-align: middle;\n",
       "    }\n",
       "\n",
       "    .dataframe tbody tr th {\n",
       "        vertical-align: top;\n",
       "    }\n",
       "\n",
       "    .dataframe thead th {\n",
       "        text-align: right;\n",
       "    }\n",
       "</style>\n",
       "<table border=\"1\" class=\"dataframe\">\n",
       "  <thead>\n",
       "    <tr style=\"text-align: right;\">\n",
       "      <th></th>\n",
       "      <th>Age</th>\n",
       "      <th>AttendedBootcamp</th>\n",
       "      <th>BootcampFinish</th>\n",
       "      <th>BootcampLoanYesNo</th>\n",
       "      <th>BootcampName</th>\n",
       "      <th>BootcampRecommend</th>\n",
       "      <th>ChildrenNumber</th>\n",
       "      <th>CityPopulation</th>\n",
       "      <th>CodeEventConferences</th>\n",
       "      <th>CodeEventDjangoGirls</th>\n",
       "      <th>...</th>\n",
       "      <th>YouTubeFunFunFunction</th>\n",
       "      <th>YouTubeGoogleDev</th>\n",
       "      <th>YouTubeLearnCode</th>\n",
       "      <th>YouTubeLevelUpTuts</th>\n",
       "      <th>YouTubeMIT</th>\n",
       "      <th>YouTubeMozillaHacks</th>\n",
       "      <th>YouTubeOther</th>\n",
       "      <th>YouTubeSimplilearn</th>\n",
       "      <th>YouTubeTheNewBoston</th>\n",
       "      <th>money_per_month</th>\n",
       "    </tr>\n",
       "  </thead>\n",
       "  <tbody>\n",
       "    <tr>\n",
       "      <th>1728</th>\n",
       "      <td>24.0</td>\n",
       "      <td>0.0</td>\n",
       "      <td>NaN</td>\n",
       "      <td>NaN</td>\n",
       "      <td>NaN</td>\n",
       "      <td>NaN</td>\n",
       "      <td>NaN</td>\n",
       "      <td>between 100,000 and 1 million</td>\n",
       "      <td>NaN</td>\n",
       "      <td>NaN</td>\n",
       "      <td>...</td>\n",
       "      <td>NaN</td>\n",
       "      <td>NaN</td>\n",
       "      <td>NaN</td>\n",
       "      <td>NaN</td>\n",
       "      <td>NaN</td>\n",
       "      <td>NaN</td>\n",
       "      <td>NaN</td>\n",
       "      <td>NaN</td>\n",
       "      <td>NaN</td>\n",
       "      <td>5000.000000</td>\n",
       "    </tr>\n",
       "    <tr>\n",
       "      <th>1755</th>\n",
       "      <td>20.0</td>\n",
       "      <td>0.0</td>\n",
       "      <td>NaN</td>\n",
       "      <td>NaN</td>\n",
       "      <td>NaN</td>\n",
       "      <td>NaN</td>\n",
       "      <td>NaN</td>\n",
       "      <td>more than 1 million</td>\n",
       "      <td>NaN</td>\n",
       "      <td>NaN</td>\n",
       "      <td>...</td>\n",
       "      <td>NaN</td>\n",
       "      <td>NaN</td>\n",
       "      <td>1.0</td>\n",
       "      <td>NaN</td>\n",
       "      <td>1.0</td>\n",
       "      <td>NaN</td>\n",
       "      <td>NaN</td>\n",
       "      <td>NaN</td>\n",
       "      <td>NaN</td>\n",
       "      <td>3333.333333</td>\n",
       "    </tr>\n",
       "    <tr>\n",
       "      <th>7989</th>\n",
       "      <td>28.0</td>\n",
       "      <td>0.0</td>\n",
       "      <td>NaN</td>\n",
       "      <td>NaN</td>\n",
       "      <td>NaN</td>\n",
       "      <td>NaN</td>\n",
       "      <td>NaN</td>\n",
       "      <td>between 100,000 and 1 million</td>\n",
       "      <td>1.0</td>\n",
       "      <td>NaN</td>\n",
       "      <td>...</td>\n",
       "      <td>NaN</td>\n",
       "      <td>NaN</td>\n",
       "      <td>NaN</td>\n",
       "      <td>NaN</td>\n",
       "      <td>NaN</td>\n",
       "      <td>NaN</td>\n",
       "      <td>NaN</td>\n",
       "      <td>NaN</td>\n",
       "      <td>NaN</td>\n",
       "      <td>5000.000000</td>\n",
       "    </tr>\n",
       "    <tr>\n",
       "      <th>8126</th>\n",
       "      <td>22.0</td>\n",
       "      <td>0.0</td>\n",
       "      <td>NaN</td>\n",
       "      <td>NaN</td>\n",
       "      <td>NaN</td>\n",
       "      <td>NaN</td>\n",
       "      <td>NaN</td>\n",
       "      <td>more than 1 million</td>\n",
       "      <td>NaN</td>\n",
       "      <td>NaN</td>\n",
       "      <td>...</td>\n",
       "      <td>NaN</td>\n",
       "      <td>1.0</td>\n",
       "      <td>NaN</td>\n",
       "      <td>NaN</td>\n",
       "      <td>1.0</td>\n",
       "      <td>NaN</td>\n",
       "      <td>NaN</td>\n",
       "      <td>NaN</td>\n",
       "      <td>1.0</td>\n",
       "      <td>5000.000000</td>\n",
       "    </tr>\n",
       "    <tr>\n",
       "      <th>13398</th>\n",
       "      <td>19.0</td>\n",
       "      <td>0.0</td>\n",
       "      <td>NaN</td>\n",
       "      <td>NaN</td>\n",
       "      <td>NaN</td>\n",
       "      <td>NaN</td>\n",
       "      <td>NaN</td>\n",
       "      <td>more than 1 million</td>\n",
       "      <td>NaN</td>\n",
       "      <td>NaN</td>\n",
       "      <td>...</td>\n",
       "      <td>NaN</td>\n",
       "      <td>NaN</td>\n",
       "      <td>NaN</td>\n",
       "      <td>NaN</td>\n",
       "      <td>NaN</td>\n",
       "      <td>NaN</td>\n",
       "      <td>NaN</td>\n",
       "      <td>NaN</td>\n",
       "      <td>NaN</td>\n",
       "      <td>10000.000000</td>\n",
       "    </tr>\n",
       "    <tr>\n",
       "      <th>15587</th>\n",
       "      <td>27.0</td>\n",
       "      <td>0.0</td>\n",
       "      <td>NaN</td>\n",
       "      <td>NaN</td>\n",
       "      <td>NaN</td>\n",
       "      <td>NaN</td>\n",
       "      <td>NaN</td>\n",
       "      <td>more than 1 million</td>\n",
       "      <td>NaN</td>\n",
       "      <td>NaN</td>\n",
       "      <td>...</td>\n",
       "      <td>NaN</td>\n",
       "      <td>1.0</td>\n",
       "      <td>1.0</td>\n",
       "      <td>NaN</td>\n",
       "      <td>1.0</td>\n",
       "      <td>NaN</td>\n",
       "      <td>NaN</td>\n",
       "      <td>NaN</td>\n",
       "      <td>NaN</td>\n",
       "      <td>4166.666667</td>\n",
       "    </tr>\n",
       "  </tbody>\n",
       "</table>\n",
       "<p>6 rows × 137 columns</p>\n",
       "</div>"
      ],
      "text/plain": [
       "        Age  AttendedBootcamp  BootcampFinish  BootcampLoanYesNo BootcampName  \\\n",
       "1728   24.0               0.0             NaN                NaN          NaN   \n",
       "1755   20.0               0.0             NaN                NaN          NaN   \n",
       "7989   28.0               0.0             NaN                NaN          NaN   \n",
       "8126   22.0               0.0             NaN                NaN          NaN   \n",
       "13398  19.0               0.0             NaN                NaN          NaN   \n",
       "15587  27.0               0.0             NaN                NaN          NaN   \n",
       "\n",
       "       BootcampRecommend  ChildrenNumber                 CityPopulation  \\\n",
       "1728                 NaN             NaN  between 100,000 and 1 million   \n",
       "1755                 NaN             NaN            more than 1 million   \n",
       "7989                 NaN             NaN  between 100,000 and 1 million   \n",
       "8126                 NaN             NaN            more than 1 million   \n",
       "13398                NaN             NaN            more than 1 million   \n",
       "15587                NaN             NaN            more than 1 million   \n",
       "\n",
       "       CodeEventConferences  CodeEventDjangoGirls  ...  YouTubeFunFunFunction  \\\n",
       "1728                    NaN                   NaN  ...                    NaN   \n",
       "1755                    NaN                   NaN  ...                    NaN   \n",
       "7989                    1.0                   NaN  ...                    NaN   \n",
       "8126                    NaN                   NaN  ...                    NaN   \n",
       "13398                   NaN                   NaN  ...                    NaN   \n",
       "15587                   NaN                   NaN  ...                    NaN   \n",
       "\n",
       "       YouTubeGoogleDev  YouTubeLearnCode  YouTubeLevelUpTuts  YouTubeMIT  \\\n",
       "1728                NaN               NaN                 NaN         NaN   \n",
       "1755                NaN               1.0                 NaN         1.0   \n",
       "7989                NaN               NaN                 NaN         NaN   \n",
       "8126                1.0               NaN                 NaN         1.0   \n",
       "13398               NaN               NaN                 NaN         NaN   \n",
       "15587               1.0               1.0                 NaN         1.0   \n",
       "\n",
       "       YouTubeMozillaHacks  YouTubeOther YouTubeSimplilearn  \\\n",
       "1728                   NaN           NaN                NaN   \n",
       "1755                   NaN           NaN                NaN   \n",
       "7989                   NaN           NaN                NaN   \n",
       "8126                   NaN           NaN                NaN   \n",
       "13398                  NaN           NaN                NaN   \n",
       "15587                  NaN           NaN                NaN   \n",
       "\n",
       "       YouTubeTheNewBoston  money_per_month  \n",
       "1728                   NaN      5000.000000  \n",
       "1755                   NaN      3333.333333  \n",
       "7989                   NaN      5000.000000  \n",
       "8126                   1.0      5000.000000  \n",
       "13398                  NaN     10000.000000  \n",
       "15587                  NaN      4166.666667  \n",
       "\n",
       "[6 rows x 137 columns]"
      ]
     },
     "execution_count": 218,
     "metadata": {},
     "output_type": "execute_result"
    }
   ],
   "source": [
    "india_outliers"
   ]
  },
  {
   "cell_type": "code",
   "execution_count": 219,
   "id": "b3103b79-9c7c-4285-b4c3-603787154960",
   "metadata": {},
   "outputs": [
    {
     "name": "stdout",
     "output_type": "stream",
     "text": [
      "Number of participants enrolled in bootcamp(s): 0\n"
     ]
    }
   ],
   "source": [
    "columns_to_check = [\n",
    "    'AttendedBootcamp', 'BootcampFinish', 'BootcampLoanYesNo',\n",
    "    'JobRoleInterest', 'MonthsProgramming', 'MoneyForLearning',\n",
    "    'CountryLive', 'SchoolMajor'\n",
    "]\n",
    "\n",
    "print(f\"Number of participants enrolled in bootcamp(s): {india_outliers['BootcampFinish'].value_counts().sum()}\")\n"
   ]
  },
  {
   "cell_type": "markdown",
   "id": "a7ac907a-2ddb-4043-8463-7e7c972524e0",
   "metadata": {},
   "source": [
    "* There are a few respondents with extremely high monthly spending on learning (ranging from **\\$3333** to **\\$5000** per month), which significantly exceeds the typical spending.\n",
    "\n",
    "* These individuals appear to live in large cities, with populations ranging from 100,000 to over 1 million. This might suggest that they are more likely to have access to expensive resources or bootcamps.\n",
    "\n",
    "* However, there is no direct indication in the data that these respondents attended bootcamps (as the `AttendedBootcamp` column has 0 values, suggesting they didn’t attend a bootcamp). Therefore, the high expenses might not be justified by bootcamp attendance alone.\n",
    "\n",
    "* The `money_per_month` values indicate that these respondents are likely either heavily invested in their learning or possibly making large, one-off payments (e.g., for advanced courses or resources)."
   ]
  },
  {
   "cell_type": "code",
   "execution_count": 221,
   "id": "573ab867-8201-44af-bc55-f1041b40411e",
   "metadata": {},
   "outputs": [],
   "source": [
    "# drop indians outliers\n",
    "top4_df = top4_df.drop(india_outliers.index)"
   ]
  },
  {
   "cell_type": "code",
   "execution_count": 222,
   "id": "00510e61-fc57-42b2-aaba-8cecef825f91",
   "metadata": {},
   "outputs": [],
   "source": [
    "#US outliers\n",
    "us_otliers = top4_df[\n",
    "    (top4_df['CountryLive'] == 'United States of America') &\n",
    "    (top4_df['money_per_month'] > 6000)\n",
    "]"
   ]
  },
  {
   "cell_type": "code",
   "execution_count": 223,
   "id": "fd65f2b2-1301-4af9-a759-816546f57803",
   "metadata": {
    "scrolled": true
   },
   "outputs": [
    {
     "data": {
      "text/html": [
       "<div>\n",
       "<style scoped>\n",
       "    .dataframe tbody tr th:only-of-type {\n",
       "        vertical-align: middle;\n",
       "    }\n",
       "\n",
       "    .dataframe tbody tr th {\n",
       "        vertical-align: top;\n",
       "    }\n",
       "\n",
       "    .dataframe thead th {\n",
       "        text-align: right;\n",
       "    }\n",
       "</style>\n",
       "<table border=\"1\" class=\"dataframe\">\n",
       "  <thead>\n",
       "    <tr style=\"text-align: right;\">\n",
       "      <th></th>\n",
       "      <th>Age</th>\n",
       "      <th>AttendedBootcamp</th>\n",
       "      <th>BootcampFinish</th>\n",
       "      <th>BootcampLoanYesNo</th>\n",
       "      <th>BootcampName</th>\n",
       "      <th>BootcampRecommend</th>\n",
       "      <th>ChildrenNumber</th>\n",
       "      <th>CityPopulation</th>\n",
       "      <th>CodeEventConferences</th>\n",
       "      <th>CodeEventDjangoGirls</th>\n",
       "      <th>...</th>\n",
       "      <th>YouTubeFunFunFunction</th>\n",
       "      <th>YouTubeGoogleDev</th>\n",
       "      <th>YouTubeLearnCode</th>\n",
       "      <th>YouTubeLevelUpTuts</th>\n",
       "      <th>YouTubeMIT</th>\n",
       "      <th>YouTubeMozillaHacks</th>\n",
       "      <th>YouTubeOther</th>\n",
       "      <th>YouTubeSimplilearn</th>\n",
       "      <th>YouTubeTheNewBoston</th>\n",
       "      <th>money_per_month</th>\n",
       "    </tr>\n",
       "  </thead>\n",
       "  <tbody>\n",
       "    <tr>\n",
       "      <th>718</th>\n",
       "      <td>26.0</td>\n",
       "      <td>1.0</td>\n",
       "      <td>0.0</td>\n",
       "      <td>0.0</td>\n",
       "      <td>The Coding Boot Camp at UCLA Extension</td>\n",
       "      <td>1.0</td>\n",
       "      <td>NaN</td>\n",
       "      <td>more than 1 million</td>\n",
       "      <td>1.0</td>\n",
       "      <td>NaN</td>\n",
       "      <td>...</td>\n",
       "      <td>NaN</td>\n",
       "      <td>NaN</td>\n",
       "      <td>NaN</td>\n",
       "      <td>NaN</td>\n",
       "      <td>NaN</td>\n",
       "      <td>NaN</td>\n",
       "      <td>NaN</td>\n",
       "      <td>NaN</td>\n",
       "      <td>NaN</td>\n",
       "      <td>8000.000000</td>\n",
       "    </tr>\n",
       "    <tr>\n",
       "      <th>1222</th>\n",
       "      <td>32.0</td>\n",
       "      <td>1.0</td>\n",
       "      <td>0.0</td>\n",
       "      <td>0.0</td>\n",
       "      <td>The Iron Yard</td>\n",
       "      <td>1.0</td>\n",
       "      <td>NaN</td>\n",
       "      <td>between 100,000 and 1 million</td>\n",
       "      <td>NaN</td>\n",
       "      <td>NaN</td>\n",
       "      <td>...</td>\n",
       "      <td>NaN</td>\n",
       "      <td>NaN</td>\n",
       "      <td>1.0</td>\n",
       "      <td>NaN</td>\n",
       "      <td>NaN</td>\n",
       "      <td>NaN</td>\n",
       "      <td>NaN</td>\n",
       "      <td>NaN</td>\n",
       "      <td>NaN</td>\n",
       "      <td>6500.000000</td>\n",
       "    </tr>\n",
       "    <tr>\n",
       "      <th>3184</th>\n",
       "      <td>34.0</td>\n",
       "      <td>1.0</td>\n",
       "      <td>1.0</td>\n",
       "      <td>0.0</td>\n",
       "      <td>We Can Code IT</td>\n",
       "      <td>1.0</td>\n",
       "      <td>NaN</td>\n",
       "      <td>more than 1 million</td>\n",
       "      <td>NaN</td>\n",
       "      <td>NaN</td>\n",
       "      <td>...</td>\n",
       "      <td>NaN</td>\n",
       "      <td>NaN</td>\n",
       "      <td>NaN</td>\n",
       "      <td>NaN</td>\n",
       "      <td>NaN</td>\n",
       "      <td>NaN</td>\n",
       "      <td>NaN</td>\n",
       "      <td>NaN</td>\n",
       "      <td>NaN</td>\n",
       "      <td>9000.000000</td>\n",
       "    </tr>\n",
       "    <tr>\n",
       "      <th>3930</th>\n",
       "      <td>31.0</td>\n",
       "      <td>0.0</td>\n",
       "      <td>NaN</td>\n",
       "      <td>NaN</td>\n",
       "      <td>NaN</td>\n",
       "      <td>NaN</td>\n",
       "      <td>NaN</td>\n",
       "      <td>between 100,000 and 1 million</td>\n",
       "      <td>NaN</td>\n",
       "      <td>NaN</td>\n",
       "      <td>...</td>\n",
       "      <td>1.0</td>\n",
       "      <td>1.0</td>\n",
       "      <td>1.0</td>\n",
       "      <td>1.0</td>\n",
       "      <td>1.0</td>\n",
       "      <td>NaN</td>\n",
       "      <td>various conf presentations</td>\n",
       "      <td>NaN</td>\n",
       "      <td>NaN</td>\n",
       "      <td>10833.333333</td>\n",
       "    </tr>\n",
       "    <tr>\n",
       "      <th>6805</th>\n",
       "      <td>46.0</td>\n",
       "      <td>1.0</td>\n",
       "      <td>1.0</td>\n",
       "      <td>1.0</td>\n",
       "      <td>Sabio.la</td>\n",
       "      <td>0.0</td>\n",
       "      <td>NaN</td>\n",
       "      <td>between 100,000 and 1 million</td>\n",
       "      <td>NaN</td>\n",
       "      <td>NaN</td>\n",
       "      <td>...</td>\n",
       "      <td>NaN</td>\n",
       "      <td>NaN</td>\n",
       "      <td>NaN</td>\n",
       "      <td>NaN</td>\n",
       "      <td>NaN</td>\n",
       "      <td>NaN</td>\n",
       "      <td>NaN</td>\n",
       "      <td>NaN</td>\n",
       "      <td>NaN</td>\n",
       "      <td>15000.000000</td>\n",
       "    </tr>\n",
       "    <tr>\n",
       "      <th>7198</th>\n",
       "      <td>32.0</td>\n",
       "      <td>0.0</td>\n",
       "      <td>NaN</td>\n",
       "      <td>NaN</td>\n",
       "      <td>NaN</td>\n",
       "      <td>NaN</td>\n",
       "      <td>NaN</td>\n",
       "      <td>more than 1 million</td>\n",
       "      <td>1.0</td>\n",
       "      <td>NaN</td>\n",
       "      <td>...</td>\n",
       "      <td>NaN</td>\n",
       "      <td>1.0</td>\n",
       "      <td>1.0</td>\n",
       "      <td>1.0</td>\n",
       "      <td>NaN</td>\n",
       "      <td>NaN</td>\n",
       "      <td>NaN</td>\n",
       "      <td>NaN</td>\n",
       "      <td>NaN</td>\n",
       "      <td>14000.000000</td>\n",
       "    </tr>\n",
       "    <tr>\n",
       "      <th>7505</th>\n",
       "      <td>26.0</td>\n",
       "      <td>1.0</td>\n",
       "      <td>0.0</td>\n",
       "      <td>1.0</td>\n",
       "      <td>Codeup</td>\n",
       "      <td>0.0</td>\n",
       "      <td>NaN</td>\n",
       "      <td>more than 1 million</td>\n",
       "      <td>NaN</td>\n",
       "      <td>NaN</td>\n",
       "      <td>...</td>\n",
       "      <td>NaN</td>\n",
       "      <td>NaN</td>\n",
       "      <td>NaN</td>\n",
       "      <td>NaN</td>\n",
       "      <td>1.0</td>\n",
       "      <td>NaN</td>\n",
       "      <td>NaN</td>\n",
       "      <td>NaN</td>\n",
       "      <td>NaN</td>\n",
       "      <td>6666.666667</td>\n",
       "    </tr>\n",
       "    <tr>\n",
       "      <th>9778</th>\n",
       "      <td>33.0</td>\n",
       "      <td>1.0</td>\n",
       "      <td>0.0</td>\n",
       "      <td>1.0</td>\n",
       "      <td>Grand Circus</td>\n",
       "      <td>1.0</td>\n",
       "      <td>NaN</td>\n",
       "      <td>between 100,000 and 1 million</td>\n",
       "      <td>NaN</td>\n",
       "      <td>NaN</td>\n",
       "      <td>...</td>\n",
       "      <td>NaN</td>\n",
       "      <td>NaN</td>\n",
       "      <td>NaN</td>\n",
       "      <td>NaN</td>\n",
       "      <td>NaN</td>\n",
       "      <td>NaN</td>\n",
       "      <td>NaN</td>\n",
       "      <td>NaN</td>\n",
       "      <td>NaN</td>\n",
       "      <td>8000.000000</td>\n",
       "    </tr>\n",
       "    <tr>\n",
       "      <th>16650</th>\n",
       "      <td>29.0</td>\n",
       "      <td>0.0</td>\n",
       "      <td>NaN</td>\n",
       "      <td>NaN</td>\n",
       "      <td>NaN</td>\n",
       "      <td>NaN</td>\n",
       "      <td>2.0</td>\n",
       "      <td>more than 1 million</td>\n",
       "      <td>NaN</td>\n",
       "      <td>NaN</td>\n",
       "      <td>...</td>\n",
       "      <td>NaN</td>\n",
       "      <td>NaN</td>\n",
       "      <td>NaN</td>\n",
       "      <td>NaN</td>\n",
       "      <td>NaN</td>\n",
       "      <td>NaN</td>\n",
       "      <td>NaN</td>\n",
       "      <td>NaN</td>\n",
       "      <td>1.0</td>\n",
       "      <td>16666.666667</td>\n",
       "    </tr>\n",
       "    <tr>\n",
       "      <th>16997</th>\n",
       "      <td>27.0</td>\n",
       "      <td>0.0</td>\n",
       "      <td>NaN</td>\n",
       "      <td>NaN</td>\n",
       "      <td>NaN</td>\n",
       "      <td>NaN</td>\n",
       "      <td>1.0</td>\n",
       "      <td>more than 1 million</td>\n",
       "      <td>NaN</td>\n",
       "      <td>NaN</td>\n",
       "      <td>...</td>\n",
       "      <td>NaN</td>\n",
       "      <td>NaN</td>\n",
       "      <td>NaN</td>\n",
       "      <td>NaN</td>\n",
       "      <td>NaN</td>\n",
       "      <td>NaN</td>\n",
       "      <td>NaN</td>\n",
       "      <td>NaN</td>\n",
       "      <td>NaN</td>\n",
       "      <td>12500.000000</td>\n",
       "    </tr>\n",
       "    <tr>\n",
       "      <th>17231</th>\n",
       "      <td>50.0</td>\n",
       "      <td>0.0</td>\n",
       "      <td>NaN</td>\n",
       "      <td>NaN</td>\n",
       "      <td>NaN</td>\n",
       "      <td>NaN</td>\n",
       "      <td>2.0</td>\n",
       "      <td>less than 100,000</td>\n",
       "      <td>NaN</td>\n",
       "      <td>NaN</td>\n",
       "      <td>...</td>\n",
       "      <td>NaN</td>\n",
       "      <td>NaN</td>\n",
       "      <td>NaN</td>\n",
       "      <td>NaN</td>\n",
       "      <td>NaN</td>\n",
       "      <td>NaN</td>\n",
       "      <td>NaN</td>\n",
       "      <td>NaN</td>\n",
       "      <td>NaN</td>\n",
       "      <td>15000.000000</td>\n",
       "    </tr>\n",
       "  </tbody>\n",
       "</table>\n",
       "<p>11 rows × 137 columns</p>\n",
       "</div>"
      ],
      "text/plain": [
       "        Age  AttendedBootcamp  BootcampFinish  BootcampLoanYesNo  \\\n",
       "718    26.0               1.0             0.0                0.0   \n",
       "1222   32.0               1.0             0.0                0.0   \n",
       "3184   34.0               1.0             1.0                0.0   \n",
       "3930   31.0               0.0             NaN                NaN   \n",
       "6805   46.0               1.0             1.0                1.0   \n",
       "7198   32.0               0.0             NaN                NaN   \n",
       "7505   26.0               1.0             0.0                1.0   \n",
       "9778   33.0               1.0             0.0                1.0   \n",
       "16650  29.0               0.0             NaN                NaN   \n",
       "16997  27.0               0.0             NaN                NaN   \n",
       "17231  50.0               0.0             NaN                NaN   \n",
       "\n",
       "                                 BootcampName  BootcampRecommend  \\\n",
       "718    The Coding Boot Camp at UCLA Extension                1.0   \n",
       "1222                            The Iron Yard                1.0   \n",
       "3184                           We Can Code IT                1.0   \n",
       "3930                                      NaN                NaN   \n",
       "6805                                 Sabio.la                0.0   \n",
       "7198                                      NaN                NaN   \n",
       "7505                                   Codeup                0.0   \n",
       "9778                             Grand Circus                1.0   \n",
       "16650                                     NaN                NaN   \n",
       "16997                                     NaN                NaN   \n",
       "17231                                     NaN                NaN   \n",
       "\n",
       "       ChildrenNumber                 CityPopulation  CodeEventConferences  \\\n",
       "718               NaN            more than 1 million                   1.0   \n",
       "1222              NaN  between 100,000 and 1 million                   NaN   \n",
       "3184              NaN            more than 1 million                   NaN   \n",
       "3930              NaN  between 100,000 and 1 million                   NaN   \n",
       "6805              NaN  between 100,000 and 1 million                   NaN   \n",
       "7198              NaN            more than 1 million                   1.0   \n",
       "7505              NaN            more than 1 million                   NaN   \n",
       "9778              NaN  between 100,000 and 1 million                   NaN   \n",
       "16650             2.0            more than 1 million                   NaN   \n",
       "16997             1.0            more than 1 million                   NaN   \n",
       "17231             2.0              less than 100,000                   NaN   \n",
       "\n",
       "       CodeEventDjangoGirls  ...  YouTubeFunFunFunction  YouTubeGoogleDev  \\\n",
       "718                     NaN  ...                    NaN               NaN   \n",
       "1222                    NaN  ...                    NaN               NaN   \n",
       "3184                    NaN  ...                    NaN               NaN   \n",
       "3930                    NaN  ...                    1.0               1.0   \n",
       "6805                    NaN  ...                    NaN               NaN   \n",
       "7198                    NaN  ...                    NaN               1.0   \n",
       "7505                    NaN  ...                    NaN               NaN   \n",
       "9778                    NaN  ...                    NaN               NaN   \n",
       "16650                   NaN  ...                    NaN               NaN   \n",
       "16997                   NaN  ...                    NaN               NaN   \n",
       "17231                   NaN  ...                    NaN               NaN   \n",
       "\n",
       "       YouTubeLearnCode  YouTubeLevelUpTuts  YouTubeMIT  YouTubeMozillaHacks  \\\n",
       "718                 NaN                 NaN         NaN                  NaN   \n",
       "1222                1.0                 NaN         NaN                  NaN   \n",
       "3184                NaN                 NaN         NaN                  NaN   \n",
       "3930                1.0                 1.0         1.0                  NaN   \n",
       "6805                NaN                 NaN         NaN                  NaN   \n",
       "7198                1.0                 1.0         NaN                  NaN   \n",
       "7505                NaN                 NaN         1.0                  NaN   \n",
       "9778                NaN                 NaN         NaN                  NaN   \n",
       "16650               NaN                 NaN         NaN                  NaN   \n",
       "16997               NaN                 NaN         NaN                  NaN   \n",
       "17231               NaN                 NaN         NaN                  NaN   \n",
       "\n",
       "                     YouTubeOther YouTubeSimplilearn  YouTubeTheNewBoston  \\\n",
       "718                           NaN                NaN                  NaN   \n",
       "1222                          NaN                NaN                  NaN   \n",
       "3184                          NaN                NaN                  NaN   \n",
       "3930   various conf presentations                NaN                  NaN   \n",
       "6805                          NaN                NaN                  NaN   \n",
       "7198                          NaN                NaN                  NaN   \n",
       "7505                          NaN                NaN                  NaN   \n",
       "9778                          NaN                NaN                  NaN   \n",
       "16650                         NaN                NaN                  1.0   \n",
       "16997                         NaN                NaN                  NaN   \n",
       "17231                         NaN                NaN                  NaN   \n",
       "\n",
       "       money_per_month  \n",
       "718        8000.000000  \n",
       "1222       6500.000000  \n",
       "3184       9000.000000  \n",
       "3930      10833.333333  \n",
       "6805      15000.000000  \n",
       "7198      14000.000000  \n",
       "7505       6666.666667  \n",
       "9778       8000.000000  \n",
       "16650     16666.666667  \n",
       "16997     12500.000000  \n",
       "17231     15000.000000  \n",
       "\n",
       "[11 rows x 137 columns]"
      ]
     },
     "execution_count": 223,
     "metadata": {},
     "output_type": "execute_result"
    }
   ],
   "source": [
    "us_otliers"
   ]
  },
  {
   "cell_type": "code",
   "execution_count": 224,
   "id": "c69ac6e1-12f1-4e8c-a4d9-146181dc8445",
   "metadata": {},
   "outputs": [
    {
     "data": {
      "text/plain": [
       "BootcampLoanYesNo\n",
       "0.0    3\n",
       "1.0    3\n",
       "Name: count, dtype: int64"
      ]
     },
     "execution_count": 224,
     "metadata": {},
     "output_type": "execute_result"
    }
   ],
   "source": [
    "us_otliers['BootcampLoanYesNo'].value_counts()"
   ]
  },
  {
   "cell_type": "code",
   "execution_count": 225,
   "id": "1409868e-b1b3-4641-bb77-d847e0a0f9b7",
   "metadata": {},
   "outputs": [
    {
     "data": {
      "text/plain": [
       "BootcampRecommend\n",
       "1.0    4\n",
       "0.0    2\n",
       "Name: count, dtype: int64"
      ]
     },
     "execution_count": 225,
     "metadata": {},
     "output_type": "execute_result"
    }
   ],
   "source": [
    "us_otliers['BootcampRecommend'].value_counts()"
   ]
  },
  {
   "cell_type": "markdown",
   "id": "3cab6a61-d9f6-416c-85ed-c2fd5df0a658",
   "metadata": {},
   "source": [
    "#### Bootcamp Attendance\n",
    "\n",
    "- **6 out of 11 respondents attended a bootcamp** (`AttendedBootcamp = 1.0`), and several even completed it.\n",
    "- Bootcamp names include:\n",
    "  - The Coding Boot Camp at UCLA Extension\n",
    "  - The Iron Yard\n",
    "  - We Can Code IT\n",
    "  - Sabio.la\n",
    "  - Codeup\n",
    "  - Grand Circus\n",
    "\n",
    "Most of these are well-known and expensive bootcamps in the U.S., which can justify the high monthly spending.\n",
    "\n",
    "\n",
    "\n",
    "####  YouTube / Free Learning Engagement\n",
    "\n",
    "- Engagement with YouTube learning channels is minimal or missing.\n",
    "- This suggests these respondents may rely more heavily on **paid resources** rather than free online content.\n",
    "\n",
    "\n",
    "\n",
    "####  High-Spending Non-Bootcamp Respondents\n",
    "\n",
    "- A few respondents who **did not attend a bootcamp** still reported spending **\\$10,000**–**\\$16,000 per month**.\n",
    "- These may be **data entry errors** or reflect spending on other costly options like private coaching, university programs, or large one-time payments.\n",
    "\n",
    " We'll **remove entries** where participants reported spending **$6,000+ per month** but **never attended a bootcamp**, as these values are likely unrealistic.\n",
    "\n",
    "\n",
    "\n",
    "####  Very New Coders with High Spending\n",
    "\n",
    "- **Eight respondents** had been programming for **three months or less** but reported very high spending.\n",
    "- They likely paid **upfront for a bootcamp**, which skews the per-month calculation.\n",
    "  \n",
    " We'll **remove these outliers** to ensure more accurate average monthly spending results.\n"
   ]
  },
  {
   "cell_type": "code",
   "execution_count": 227,
   "id": "fe2a4512-3eb3-4703-8112-9bdef353aa1e",
   "metadata": {},
   "outputs": [],
   "source": [
    "no_bootcamp = top4_df[\n",
    "    (top4_df['CountryLive'] == 'United States of America') & \n",
    "    (top4_df['money_per_month'] >= 6000) &\n",
    "    (top4_df['AttendedBootcamp'] == 0)\n",
    "]\n",
    "\n",
    "top4_df = top4_df.drop(no_bootcamp.index)\n",
    "\n",
    "# Remove the respondents who had been programming for less than 3 months\n",
    "less_than_3_months = top4_df[\n",
    "    (top4_df['CountryLive'] == 'United States of America') & \n",
    "    (top4_df['money_per_month'] >= 6000) &\n",
    "    (top4_df['MonthsProgramming'] <= 3)\n",
    "]\n",
    "\n",
    "top4_df = top4_df.drop(less_than_3_months.index)"
   ]
  },
  {
   "cell_type": "code",
   "execution_count": 228,
   "id": "8d7cfbee-a1aa-4b14-a048-605c5439fed3",
   "metadata": {},
   "outputs": [
    {
     "data": {
      "text/html": [
       "<div>\n",
       "<style scoped>\n",
       "    .dataframe tbody tr th:only-of-type {\n",
       "        vertical-align: middle;\n",
       "    }\n",
       "\n",
       "    .dataframe tbody tr th {\n",
       "        vertical-align: top;\n",
       "    }\n",
       "\n",
       "    .dataframe thead th {\n",
       "        text-align: right;\n",
       "    }\n",
       "</style>\n",
       "<table border=\"1\" class=\"dataframe\">\n",
       "  <thead>\n",
       "    <tr style=\"text-align: right;\">\n",
       "      <th></th>\n",
       "      <th>Age</th>\n",
       "      <th>AttendedBootcamp</th>\n",
       "      <th>BootcampFinish</th>\n",
       "      <th>BootcampLoanYesNo</th>\n",
       "      <th>BootcampName</th>\n",
       "      <th>BootcampRecommend</th>\n",
       "      <th>ChildrenNumber</th>\n",
       "      <th>CityPopulation</th>\n",
       "      <th>CodeEventConferences</th>\n",
       "      <th>CodeEventDjangoGirls</th>\n",
       "      <th>...</th>\n",
       "      <th>YouTubeFunFunFunction</th>\n",
       "      <th>YouTubeGoogleDev</th>\n",
       "      <th>YouTubeLearnCode</th>\n",
       "      <th>YouTubeLevelUpTuts</th>\n",
       "      <th>YouTubeMIT</th>\n",
       "      <th>YouTubeMozillaHacks</th>\n",
       "      <th>YouTubeOther</th>\n",
       "      <th>YouTubeSimplilearn</th>\n",
       "      <th>YouTubeTheNewBoston</th>\n",
       "      <th>money_per_month</th>\n",
       "    </tr>\n",
       "  </thead>\n",
       "  <tbody>\n",
       "    <tr>\n",
       "      <th>13659</th>\n",
       "      <td>24.0</td>\n",
       "      <td>1.0</td>\n",
       "      <td>0.0</td>\n",
       "      <td>0.0</td>\n",
       "      <td>Bloc.io</td>\n",
       "      <td>1.0</td>\n",
       "      <td>NaN</td>\n",
       "      <td>more than 1 million</td>\n",
       "      <td>1.0</td>\n",
       "      <td>NaN</td>\n",
       "      <td>...</td>\n",
       "      <td>NaN</td>\n",
       "      <td>NaN</td>\n",
       "      <td>NaN</td>\n",
       "      <td>NaN</td>\n",
       "      <td>1.0</td>\n",
       "      <td>NaN</td>\n",
       "      <td>NaN</td>\n",
       "      <td>NaN</td>\n",
       "      <td>NaN</td>\n",
       "      <td>5000.0</td>\n",
       "    </tr>\n",
       "  </tbody>\n",
       "</table>\n",
       "<p>1 rows × 137 columns</p>\n",
       "</div>"
      ],
      "text/plain": [
       "        Age  AttendedBootcamp  BootcampFinish  BootcampLoanYesNo BootcampName  \\\n",
       "13659  24.0               1.0             0.0                0.0      Bloc.io   \n",
       "\n",
       "       BootcampRecommend  ChildrenNumber       CityPopulation  \\\n",
       "13659                1.0             NaN  more than 1 million   \n",
       "\n",
       "       CodeEventConferences  CodeEventDjangoGirls  ...  YouTubeFunFunFunction  \\\n",
       "13659                   1.0                   NaN  ...                    NaN   \n",
       "\n",
       "       YouTubeGoogleDev  YouTubeLearnCode  YouTubeLevelUpTuts  YouTubeMIT  \\\n",
       "13659               NaN               NaN                 NaN         1.0   \n",
       "\n",
       "       YouTubeMozillaHacks  YouTubeOther YouTubeSimplilearn  \\\n",
       "13659                  NaN           NaN                NaN   \n",
       "\n",
       "       YouTubeTheNewBoston  money_per_month  \n",
       "13659                  NaN           5000.0  \n",
       "\n",
       "[1 rows x 137 columns]"
      ]
     },
     "execution_count": 228,
     "metadata": {},
     "output_type": "execute_result"
    }
   ],
   "source": [
    "# Examine the extreme outliers for Canada\n",
    "canada_outliers = top4_df[\n",
    "    (top4_df['CountryLive'] == 'Canada') & \n",
    "    (top4_df['money_per_month'] > 4500)]\n",
    "\n",
    "canada_outliers"
   ]
  },
  {
   "cell_type": "code",
   "execution_count": 295,
   "id": "455944dc-cccd-406e-a668-78d9a8d2198f",
   "metadata": {},
   "outputs": [
    {
     "data": {
      "text/html": [
       "<div>\n",
       "<style scoped>\n",
       "    .dataframe tbody tr th:only-of-type {\n",
       "        vertical-align: middle;\n",
       "    }\n",
       "\n",
       "    .dataframe tbody tr th {\n",
       "        vertical-align: top;\n",
       "    }\n",
       "\n",
       "    .dataframe thead th {\n",
       "        text-align: right;\n",
       "    }\n",
       "</style>\n",
       "<table border=\"1\" class=\"dataframe\">\n",
       "  <thead>\n",
       "    <tr style=\"text-align: right;\">\n",
       "      <th></th>\n",
       "      <th>AttendedBootcamp</th>\n",
       "      <th>BootcampFinish</th>\n",
       "      <th>BootcampLoanYesNo</th>\n",
       "      <th>BootcampRecommend</th>\n",
       "    </tr>\n",
       "  </thead>\n",
       "  <tbody>\n",
       "    <tr>\n",
       "      <th>13659</th>\n",
       "      <td>1.0</td>\n",
       "      <td>0.0</td>\n",
       "      <td>0.0</td>\n",
       "      <td>1.0</td>\n",
       "    </tr>\n",
       "  </tbody>\n",
       "</table>\n",
       "</div>"
      ],
      "text/plain": [
       "       AttendedBootcamp  BootcampFinish  BootcampLoanYesNo  BootcampRecommend\n",
       "13659               1.0             0.0                0.0                1.0"
      ]
     },
     "execution_count": 295,
     "metadata": {},
     "output_type": "execute_result"
    }
   ],
   "source": [
    "columns_to_display = ['AttendedBootcamp', 'BootcampFinish', 'BootcampLoanYesNo', 'BootcampRecommend']\n",
    "canada_outliers.loc[13659, columns_to_display]\n",
    "canada_outliers[columns_to_display]"
   ]
  },
  {
   "cell_type": "markdown",
   "id": "fe34ebfa-ffe8-474f-ace3-adfbac2bccb0",
   "metadata": {},
   "source": [
    "* Attended a bootcamp (`AttendedBootcamp` = 1.0)\n",
    "\n",
    "* Did not finish the bootcamp (`BootcampFinish` = 0.0)\n",
    "\n",
    "* Did not take a loan to attend (`BootcampLoanYesNo` = 0.0)\n",
    "\n",
    "* Would recommend the bootcamp (`BootcampRecommend` = 1.0)"
   ]
  },
  {
   "cell_type": "code",
   "execution_count": 231,
   "id": "b8e7523e-4aa9-484a-8d92-df4cb81cd0c2",
   "metadata": {},
   "outputs": [],
   "source": [
    "# remove Canada outliners\n",
    "top4_df = top4_df.drop(canada_outliers.index)"
   ]
  },
  {
   "cell_type": "code",
   "execution_count": 232,
   "id": "a5a33b49-eb58-48e6-89f8-9fbd5f1f1e98",
   "metadata": {},
   "outputs": [
    {
     "data": {
      "text/plain": [
       "CountryLive\n",
       "United States of America    142.65\n",
       "Canada                       93.07\n",
       "India                        65.76\n",
       "United Kingdom               45.53\n",
       "Name: money_per_month, dtype: float64"
      ]
     },
     "execution_count": 232,
     "metadata": {},
     "output_type": "execute_result"
    }
   ],
   "source": [
    "# Recompute the mean sum of money spent by students each month\n",
    "top4_df.groupby('CountryLive')['money_per_month'].mean().sort_values(ascending=False).round(2)"
   ]
  },
  {
   "cell_type": "code",
   "execution_count": 233,
   "id": "6c4fc2e9-3002-40e8-a2e5-80b5ea14ba4e",
   "metadata": {},
   "outputs": [
    {
     "data": {
      "image/png": "[encoded data removed]",
      "text/plain": [
       "<Figure size 1000x600 with 1 Axes>"
      ]
     },
     "metadata": {},
     "output_type": "display_data"
    }
   ],
   "source": [
    "plt.figure(figsize=(10,6))\n",
    "\n",
    "sns.boxplot(data=top4_df, x='CountryLive', y='money_per_month')\n",
    "plt.title('Monthly Learning Spend by Country')\n",
    "plt.xlabel('') \n",
    "plt.ylabel('Money per Month ($)')\n",
    "plt.xticks()\n",
    "plt.tight_layout()\n",
    "\n",
    "plt.show()"
   ]
  },
  {
   "cell_type": "markdown",
   "id": "04770345-9ed3-40ee-9278-5428ff30980b",
   "metadata": {},
   "source": [
    "## Choosing the Two Best Markets\n",
    "\n",
    "Obviously, one country we should advertise in is the US. Lots of new coders live there and they are willing to pay a good amount of money each month (roughly \\$143).\n",
    "\n",
    "We sell subscriptions at a price of \\$59 per month, and Canada seems to be the best second choice because people there are willing to pay roughly \\$93 per month, compared to India (\\$66) and the United Kingdom (\\$45).\n",
    "\n",
    "The data suggests strongly that we shouldn't advertise in the UK, but let's take a second look at India before deciding to choose Canada as our second best choice:\n",
    "\n",
    "* We have almost twice as more potential customers in India than we have in Canada:"
   ]
  },
  {
   "cell_type": "markdown",
   "id": "03b04494-2520-44f4-a685-40c5daf11515",
   "metadata": {},
   "source": [
    "After eliminating the extreme outliers, we found the following mean values:"
   ]
  },
  {
   "cell_type": "code",
   "execution_count": 236,
   "id": "a8b9b372-3912-4c76-8ff9-abcce880b519",
   "metadata": {},
   "outputs": [
    {
     "data": {
      "text/plain": [
       "CountryLive\n",
       "United States of America    142.65\n",
       "Canada                       93.07\n",
       "India                        65.76\n",
       "United Kingdom               45.53\n",
       "Name: money_per_month, dtype: float64"
      ]
     },
     "execution_count": 236,
     "metadata": {},
     "output_type": "execute_result"
    }
   ],
   "source": [
    "# Recompute mean sum of money spent by students each month\n",
    "top4_df.groupby('CountryLive')['money_per_month'].mean().sort_values(ascending=False).round(2)"
   ]
  },
  {
   "cell_type": "markdown",
   "id": "de6e2d2a-6a8d-417c-8df5-4732e74dfa34",
   "metadata": {},
   "source": [
    "#### Primary Market: United States\n",
    "* Highest average monthly spending\n",
    "\n",
    "* Large, engaged learner base\n",
    "\n",
    "* Perfect alignment with our $59/month pricing\n",
    "\n",
    "* Recommended share: 70%\n",
    "\n",
    "#### Second Market Options: \n",
    "   **Canada**\n",
    "* Higher average spend ($93), above our subscription price\n",
    "\n",
    "* Economically and culturally aligned with the U.S.\n",
    "\n",
    "* Smaller but more stable, high-conversion market\n",
    "\n",
    "**India**\n",
    "* Lower spend per user (\\$66), but still above the \\$59/month threshold\n",
    "\n",
    "* Much larger potential user base\n",
    "\n",
    "* May be more price-sensitive, suggesting potential for freemium or local pricing models\n",
    "\n",
    "#### Recommendation\n",
    "* If optimizing for value per customer: Choose Canada\n",
    "\n",
    "* If optimizing for reach and acquisition volume: Choose India\n",
    "\n",
    "#### Suggested split:\n",
    "\n",
    "70% U.S., 30% Canada (quality-focused strategy)\n",
    "\n",
    "60% U.S., 40% India (growth-focused strategy)"
   ]
  },
  {
   "cell_type": "markdown",
   "id": "35e42072-10d2-4840-8c01-700039dbad4f",
   "metadata": {},
   "source": [
    "| Country            | Avg Monthly Spend (\\$) | Population Size (tech learners) | Price Sensitivity | Ease of Market Entry | Recommendation           |\n",
    "| ------------------ | ---------------------- | ------------------------------- | ----------------- | -------------------- | ------------------------ |\n",
    "| **USA**            | **142.65**             | High                            | Low               | High                 | ✅ Primary market         |\n",
    "| **Canada**         | 93.07                  | Medium                          | Medium            | Very High            | ✅ Good 2nd market option |\n",
    "| **India**          | 65.76                  | Very High                       | High              | Medium               | ⚠ Volume market          |\n",
    "| **United Kingdom** | 45.53                  | Medium                          | Medium            | High                 | 🚫 Not ideal for now     |\n"
   ]
  }
 ],
 "metadata": {
  "kernelspec": {
   "display_name": "base",
   "language": "python",
   "name": "python3"
  },
  "language_info": {
   "codemirror_mode": {
    "name": "ipython",
    "version": 3
   },
   "file_extension": ".py",
   "mimetype": "text/x-python",
   "name": "python",
   "nbconvert_exporter": "python",
   "pygments_lexer": "ipython3",
   "version": "3.12.3"
  }
 },
 "nbformat": 4,
 "nbformat_minor": 5
}
